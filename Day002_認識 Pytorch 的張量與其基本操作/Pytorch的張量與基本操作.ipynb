{
  "nbformat": 4,
  "nbformat_minor": 0,
  "metadata": {
    "colab": {
      "provenance": [],
      "authorship_tag": "ABX9TyPA1sGHpC5Du81XW/UwUIaz"
    },
    "kernelspec": {
      "name": "python3",
      "display_name": "Python 3"
    },
    "language_info": {
      "name": "python"
    }
  },
  "cells": [
    {
      "cell_type": "code",
      "source": [
        "import torch\n",
        "import numpy as np"
      ],
      "metadata": {
        "id": "cvH-mj99LmM1"
      },
      "execution_count": 2,
      "outputs": []
    },
    {
      "cell_type": "markdown",
      "source": [
        "## 建立張量"
      ],
      "metadata": {
        "id": "j_HouLRxLVxV"
      }
    },
    {
      "cell_type": "code",
      "source": [
        "# 0維 Tensor (純量scalar)\n",
        "t0 = torch.tensor(1 , dtype=torch.int16)\n",
        "print(t0.shape)\n",
        "\n",
        "t0"
      ],
      "metadata": {
        "colab": {
          "base_uri": "https://localhost:8080/"
        },
        "id": "hOYBFctYLZKt",
        "outputId": "89d48e05-779b-44f9-81a8-e38127889e43"
      },
      "execution_count": 3,
      "outputs": [
        {
          "output_type": "stream",
          "name": "stdout",
          "text": [
            "torch.Size([])\n"
          ]
        },
        {
          "output_type": "execute_result",
          "data": {
            "text/plain": [
              "tensor(1, dtype=torch.int16)"
            ]
          },
          "metadata": {},
          "execution_count": 3
        }
      ]
    },
    {
      "cell_type": "code",
      "source": [
        "t0_t = torch.tensor(1 , dtype = torch.int16)\n",
        "\n",
        "print(bool(t0_t.shape))\n",
        "if not t0_t.shape:\n",
        "  print('torch.Size([0])')\n",
        "\n",
        "t0_t"
      ],
      "metadata": {
        "colab": {
          "base_uri": "https://localhost:8080/"
        },
        "id": "BbjOOQgVLijn",
        "outputId": "dacf97b7-ea65-46e1-d0f5-cb7f44fc1702"
      },
      "execution_count": 4,
      "outputs": [
        {
          "output_type": "stream",
          "name": "stdout",
          "text": [
            "False\n",
            "torch.Size([0])\n"
          ]
        },
        {
          "output_type": "execute_result",
          "data": {
            "text/plain": [
              "tensor(1, dtype=torch.int16)"
            ]
          },
          "metadata": {},
          "execution_count": 4
        }
      ]
    },
    {
      "cell_type": "markdown",
      "source": [
        "因為純量的Tensor.shape輸出為空值\n",
        "\n",
        "我用boolean驗證為False\n",
        "\n",
        "使用偵測讓其輸出為torch.shape([0])"
      ],
      "metadata": {
        "id": "tGuEkPI0NOLD"
      }
    },
    {
      "cell_type": "code",
      "source": [
        "# 1維 Tensor (vector向量)\n",
        "t1 = torch.tensor([1 , 2 , 3] , dtype = torch.float32)\n",
        "print(t1.shape)\n",
        "t1"
      ],
      "metadata": {
        "colab": {
          "base_uri": "https://localhost:8080/"
        },
        "id": "K7r_er0sNHyz",
        "outputId": "243c62ba-9f16-4095-ca6e-59965ba66a58"
      },
      "execution_count": 5,
      "outputs": [
        {
          "output_type": "stream",
          "name": "stdout",
          "text": [
            "torch.Size([3])\n"
          ]
        },
        {
          "output_type": "execute_result",
          "data": {
            "text/plain": [
              "tensor([1., 2., 3.])"
            ]
          },
          "metadata": {},
          "execution_count": 5
        }
      ]
    },
    {
      "cell_type": "code",
      "source": [
        "# 2維 Tensor (matrix矩陣)\n",
        "t2 = torch.tensor([[1., 2 , 3] , [4 , 5 , 6]])\n",
        "print(t2.shape)\n",
        "t2"
      ],
      "metadata": {
        "colab": {
          "base_uri": "https://localhost:8080/"
        },
        "id": "VOXKN-Y9Ob2N",
        "outputId": "1723271b-5a41-4642-8db9-f78d366ebd08"
      },
      "execution_count": 6,
      "outputs": [
        {
          "output_type": "stream",
          "name": "stdout",
          "text": [
            "torch.Size([2, 3])\n"
          ]
        },
        {
          "output_type": "execute_result",
          "data": {
            "text/plain": [
              "tensor([[1., 2., 3.],\n",
              "        [4., 5., 6.]])"
            ]
          },
          "metadata": {},
          "execution_count": 6
        }
      ]
    },
    {
      "cell_type": "markdown",
      "source": [
        "其中一值具有浮點數,就會使矩陣所有值都是浮點數"
      ],
      "metadata": {
        "id": "KebM0a96PHS0"
      }
    },
    {
      "cell_type": "code",
      "source": [
        "t2_t = torch.tensor([[1, 2, 3] , [4, 5, 6]] , dtype = torch.float32)\n",
        "print(t2_t.shape)\n",
        "t2_t"
      ],
      "metadata": {
        "colab": {
          "base_uri": "https://localhost:8080/"
        },
        "id": "oTBkWdNWOeTb",
        "outputId": "b671bd38-7030-4f89-a7f7-a388a2a788ad"
      },
      "execution_count": 7,
      "outputs": [
        {
          "output_type": "stream",
          "name": "stdout",
          "text": [
            "torch.Size([2, 3])\n"
          ]
        },
        {
          "output_type": "execute_result",
          "data": {
            "text/plain": [
              "tensor([[1., 2., 3.],\n",
              "        [4., 5., 6.]])"
            ]
          },
          "metadata": {},
          "execution_count": 7
        }
      ]
    },
    {
      "cell_type": "code",
      "source": [
        "# 3維 Tensor (n-dimensional array) 多維數組\n",
        "t3 = torch.tensor([[[1 , 2], [3 , 4], [5 , 6]],[[7 , 8], [9 , 10], [11 , 12]]])\n",
        "print(t3.shape)\n",
        "t3"
      ],
      "metadata": {
        "colab": {
          "base_uri": "https://localhost:8080/"
        },
        "id": "O77pdVNRPDxg",
        "outputId": "2b26bc6a-03fe-46e0-c5a6-66d6ae7d0165"
      },
      "execution_count": 8,
      "outputs": [
        {
          "output_type": "stream",
          "name": "stdout",
          "text": [
            "torch.Size([2, 3, 2])\n"
          ]
        },
        {
          "output_type": "execute_result",
          "data": {
            "text/plain": [
              "tensor([[[ 1,  2],\n",
              "         [ 3,  4],\n",
              "         [ 5,  6]],\n",
              "\n",
              "        [[ 7,  8],\n",
              "         [ 9, 10],\n",
              "         [11, 12]]])"
            ]
          },
          "metadata": {},
          "execution_count": 8
        }
      ]
    },
    {
      "cell_type": "markdown",
      "source": [
        "### 其他建立張量的方式"
      ],
      "metadata": {
        "id": "01dRVbsvQsOr"
      }
    },
    {
      "cell_type": "code",
      "source": [
        "# tensor.randn : 平均值為0 , 標準差為1的常態分佈中 , 抽樣元素給定其形狀\n",
        "tensor_randn_t3 = torch.randn((2 , 3 , 5))\n",
        "print(tensor_randn_t3.shape)\n",
        "tensor_randn_t3"
      ],
      "metadata": {
        "colab": {
          "base_uri": "https://localhost:8080/"
        },
        "id": "suJhoN10Qw1r",
        "outputId": "6d314b24-c3d9-4475-9293-191efbe08f68"
      },
      "execution_count": 9,
      "outputs": [
        {
          "output_type": "stream",
          "name": "stdout",
          "text": [
            "torch.Size([2, 3, 5])\n"
          ]
        },
        {
          "output_type": "execute_result",
          "data": {
            "text/plain": [
              "tensor([[[-0.9179, -0.8376,  0.0158,  1.4734, -0.4794],\n",
              "         [-0.6742,  0.8687, -0.1271,  0.2634,  1.6003],\n",
              "         [-0.2616, -0.1778,  1.1160,  0.6679, -0.7934]],\n",
              "\n",
              "        [[ 0.1032, -0.1241,  0.6944,  0.7901, -1.2500],\n",
              "         [ 2.1907, -0.6558, -1.2148, -0.1114,  0.6117],\n",
              "         [ 0.6977, -0.9122, -1.1216,  0.1756, -0.0050]]])"
            ]
          },
          "metadata": {},
          "execution_count": 9
        }
      ]
    },
    {
      "cell_type": "code",
      "source": [
        "# torch.randint : 給定上下界(預設下界為0)中抽樣\"整數\"元素組成給定形狀的張量\n",
        "torch_randint_t2 = torch.randint(low = 0 , high = 10 , size = (3,2))\n",
        "print(torch_randint_t2.shape)\n",
        "torch_randint_t2"
      ],
      "metadata": {
        "colab": {
          "base_uri": "https://localhost:8080/"
        },
        "id": "cQdyIk_1RB2z",
        "outputId": "bffec8e8-d90a-4d95-dc04-ad951cc514e2"
      },
      "execution_count": 10,
      "outputs": [
        {
          "output_type": "stream",
          "name": "stdout",
          "text": [
            "torch.Size([3, 2])\n"
          ]
        },
        {
          "output_type": "execute_result",
          "data": {
            "text/plain": [
              "tensor([[5, 9],\n",
              "        [8, 6],\n",
              "        [9, 5]])"
            ]
          },
          "metadata": {},
          "execution_count": 10
        }
      ]
    },
    {
      "cell_type": "code",
      "source": [
        "# torch.ones : 給定其形狀 , 元素全是1的張量\n",
        "torch_ones_t2 = torch.ones((2,3))\n",
        "print(torch_ones_t2.shape)\n",
        "torch_ones_t2"
      ],
      "metadata": {
        "colab": {
          "base_uri": "https://localhost:8080/"
        },
        "id": "GZou9vLjR-kA",
        "outputId": "7fcbe8cf-df6d-4814-cf6a-cb9058a6243f"
      },
      "execution_count": 11,
      "outputs": [
        {
          "output_type": "stream",
          "name": "stdout",
          "text": [
            "torch.Size([2, 3])\n"
          ]
        },
        {
          "output_type": "execute_result",
          "data": {
            "text/plain": [
              "tensor([[1., 1., 1.],\n",
              "        [1., 1., 1.]])"
            ]
          },
          "metadata": {},
          "execution_count": 11
        }
      ]
    },
    {
      "cell_type": "code",
      "source": [
        "# torch.ones_like : 產生與給定張量相同形狀 , 但元素全為1組成\n",
        "torch_ones_like_tx = torch.ones_like(tensor_randn_t3)\n",
        "print(torch_ones_like_tx.shape)\n",
        "torch_ones_like_tx"
      ],
      "metadata": {
        "colab": {
          "base_uri": "https://localhost:8080/"
        },
        "id": "M4iRdyvWSZXx",
        "outputId": "814741c7-f2e6-4dc8-c79d-39e43a689943"
      },
      "execution_count": 12,
      "outputs": [
        {
          "output_type": "stream",
          "name": "stdout",
          "text": [
            "torch.Size([2, 3, 5])\n"
          ]
        },
        {
          "output_type": "execute_result",
          "data": {
            "text/plain": [
              "tensor([[[1., 1., 1., 1., 1.],\n",
              "         [1., 1., 1., 1., 1.],\n",
              "         [1., 1., 1., 1., 1.]],\n",
              "\n",
              "        [[1., 1., 1., 1., 1.],\n",
              "         [1., 1., 1., 1., 1.],\n",
              "         [1., 1., 1., 1., 1.]]])"
            ]
          },
          "metadata": {},
          "execution_count": 12
        }
      ]
    },
    {
      "cell_type": "markdown",
      "source": [
        "## 張量與陣列的轉換"
      ],
      "metadata": {
        "id": "Fuxo_GDnUpd4"
      }
    },
    {
      "cell_type": "code",
      "source": [
        "# 產生numpy ndarray\n",
        "ndarray_x = np.array([[1., 2] , [3 , 4]])\n",
        "print(ndarray_x.shape)\n",
        "ndarray_x"
      ],
      "metadata": {
        "colab": {
          "base_uri": "https://localhost:8080/"
        },
        "id": "8mSAcxFWUuKV",
        "outputId": "ff865f6a-d57a-41a1-d9f3-6a3c3d5e0fc7"
      },
      "execution_count": 13,
      "outputs": [
        {
          "output_type": "stream",
          "name": "stdout",
          "text": [
            "(2, 2)\n"
          ]
        },
        {
          "output_type": "execute_result",
          "data": {
            "text/plain": [
              "array([[1., 2.],\n",
              "       [3., 4.]])"
            ]
          },
          "metadata": {},
          "execution_count": 13
        }
      ]
    },
    {
      "cell_type": "code",
      "source": [
        "# 由 numpy ndarray 產生 pytorch tensor\n",
        "tensor_y = torch.from_numpy(ndarray_x)\n",
        "tensor_y_t = torch.tensor(ndarray_x) #也可以達到\n",
        "print(tensor_y.shape)\n",
        "print(tensor_y_t.shape)\n",
        "print(tensor_y)\n",
        "print(tensor_y_t)"
      ],
      "metadata": {
        "colab": {
          "base_uri": "https://localhost:8080/"
        },
        "id": "5_gBDM9_VGMz",
        "outputId": "30b35f1a-959f-4040-8cbc-7187ee9d8245"
      },
      "execution_count": 14,
      "outputs": [
        {
          "output_type": "stream",
          "name": "stdout",
          "text": [
            "torch.Size([2, 2])\n",
            "torch.Size([2, 2])\n",
            "tensor([[1., 2.],\n",
            "        [3., 4.]], dtype=torch.float64)\n",
            "tensor([[1., 2.],\n",
            "        [3., 4.]], dtype=torch.float64)\n"
          ]
        }
      ]
    },
    {
      "cell_type": "code",
      "source": [
        "ndarray_x.dtype , tensor_y.dtype"
      ],
      "metadata": {
        "colab": {
          "base_uri": "https://localhost:8080/"
        },
        "id": "R6-hZxfvV4yc",
        "outputId": "a6e4f254-cf7c-4954-c5a5-70f22a74ed17"
      },
      "execution_count": 15,
      "outputs": [
        {
          "output_type": "execute_result",
          "data": {
            "text/plain": [
              "(dtype('float64'), torch.float64)"
            ]
          },
          "metadata": {},
          "execution_count": 15
        }
      ]
    },
    {
      "cell_type": "code",
      "source": [
        "# 將tensor轉換為array\n",
        "\n",
        "transfer_z = tensor_y.numpy()\n",
        "print(transfer_z.shape)\n",
        "transfer_z"
      ],
      "metadata": {
        "colab": {
          "base_uri": "https://localhost:8080/"
        },
        "id": "J1-rUNrQWTEi",
        "outputId": "b662d1e7-2501-4c9d-de38-98c9d08edf7d"
      },
      "execution_count": 16,
      "outputs": [
        {
          "output_type": "stream",
          "name": "stdout",
          "text": [
            "(2, 2)\n"
          ]
        },
        {
          "output_type": "execute_result",
          "data": {
            "text/plain": [
              "array([[1., 2.],\n",
              "       [3., 4.]])"
            ]
          },
          "metadata": {},
          "execution_count": 16
        }
      ]
    },
    {
      "cell_type": "code",
      "source": [
        "#建立Torch\n",
        "a = torch.randn((2 , 3))\n",
        "b = torch.randn(3)\n",
        "\n",
        "print(a.shape , b.shape)\n",
        "\n",
        "a , b"
      ],
      "metadata": {
        "id": "l2NlXYUnWrwR",
        "colab": {
          "base_uri": "https://localhost:8080/"
        },
        "outputId": "ac777dfc-23c0-49ed-d65c-d221a9e4d8a4"
      },
      "execution_count": 18,
      "outputs": [
        {
          "output_type": "stream",
          "name": "stdout",
          "text": [
            "torch.Size([2, 3]) torch.Size([3])\n"
          ]
        },
        {
          "output_type": "execute_result",
          "data": {
            "text/plain": [
              "(tensor([[ 0.5998,  1.3174, -2.1760],\n",
              "         [ 2.7388,  0.1165,  1.2168]]),\n",
              " tensor([ 0.7977,  0.5466, -0.1019]))"
            ]
          },
          "metadata": {},
          "execution_count": 18
        }
      ]
    },
    {
      "cell_type": "code",
      "source": [
        "#相加\n",
        "t_add1 = a + b\n",
        "t_add2 = torch.add(a , b)\n",
        "print(t_add1.shape , t_add2.shape)\n",
        "t_add1 , t_add2"
      ],
      "metadata": {
        "colab": {
          "base_uri": "https://localhost:8080/"
        },
        "id": "Xd6F40cFrpxu",
        "outputId": "51f29572-488b-40c7-a014-30101a9b024c"
      },
      "execution_count": 19,
      "outputs": [
        {
          "output_type": "stream",
          "name": "stdout",
          "text": [
            "torch.Size([2, 3]) torch.Size([2, 3])\n"
          ]
        },
        {
          "output_type": "execute_result",
          "data": {
            "text/plain": [
              "(tensor([[ 1.3975,  1.8640, -2.2779],\n",
              "         [ 3.5365,  0.6632,  1.1149]]),\n",
              " tensor([[ 1.3975,  1.8640, -2.2779],\n",
              "         [ 3.5365,  0.6632,  1.1149]]))"
            ]
          },
          "metadata": {},
          "execution_count": 19
        }
      ]
    },
    {
      "cell_type": "code",
      "source": [
        "#相減\n",
        "t_sub1 = a - b\n",
        "t_sub2 = torch.sub(a , b)\n",
        "print(t_sub1.shape , t_sub2.shape)\n",
        "t_sub1 , t_sub2"
      ],
      "metadata": {
        "colab": {
          "base_uri": "https://localhost:8080/"
        },
        "id": "TMDQkNQssGjj",
        "outputId": "e0892234-db48-4582-bafd-42e7ec1140f4"
      },
      "execution_count": 20,
      "outputs": [
        {
          "output_type": "stream",
          "name": "stdout",
          "text": [
            "torch.Size([2, 3]) torch.Size([2, 3])\n"
          ]
        },
        {
          "output_type": "execute_result",
          "data": {
            "text/plain": [
              "(tensor([[-0.1980,  0.7707, -2.0741],\n",
              "         [ 1.9411, -0.4301,  1.3187]]),\n",
              " tensor([[-0.1980,  0.7707, -2.0741],\n",
              "         [ 1.9411, -0.4301,  1.3187]]))"
            ]
          },
          "metadata": {},
          "execution_count": 20
        }
      ]
    },
    {
      "cell_type": "code",
      "source": [
        "# 相除\n",
        "t_div1 = a / b\n",
        "t_div2 = torch.div(a , b)\n",
        "print(t_div1.shape , t_div2.shape)\n",
        "t_div1 , t_div2"
      ],
      "metadata": {
        "colab": {
          "base_uri": "https://localhost:8080/"
        },
        "id": "riVhqxoLsaFy",
        "outputId": "d790eed4-227e-4fb8-d28f-37fcc7c750bc"
      },
      "execution_count": 22,
      "outputs": [
        {
          "output_type": "stream",
          "name": "stdout",
          "text": [
            "torch.Size([2, 3]) torch.Size([2, 3])\n"
          ]
        },
        {
          "output_type": "execute_result",
          "data": {
            "text/plain": [
              "(tensor([[  0.7518,   2.4100,  21.3547],\n",
              "         [  3.4332,   0.2132, -11.9416]]),\n",
              " tensor([[  0.7518,   2.4100,  21.3547],\n",
              "         [  3.4332,   0.2132, -11.9416]]))"
            ]
          },
          "metadata": {},
          "execution_count": 22
        }
      ]
    },
    {
      "cell_type": "code",
      "source": [
        "# 相乘\n",
        "t_mul1 = a * b\n",
        "t_mul2 = torch.mul(a , b)\n",
        "print(t_mul1.shape , t_mul2.shape)\n",
        "t_mul1 , t_mul2"
      ],
      "metadata": {
        "colab": {
          "base_uri": "https://localhost:8080/"
        },
        "id": "7mKF3SVrsd0i",
        "outputId": "844eb96a-26d4-4907-dd8c-d782d17e2d5c"
      },
      "execution_count": 23,
      "outputs": [
        {
          "output_type": "stream",
          "name": "stdout",
          "text": [
            "torch.Size([2, 3]) torch.Size([2, 3])\n"
          ]
        },
        {
          "output_type": "execute_result",
          "data": {
            "text/plain": [
              "(tensor([[ 0.4785,  0.7201,  0.2217],\n",
              "         [ 2.1848,  0.0637, -0.1240]]),\n",
              " tensor([[ 0.4785,  0.7201,  0.2217],\n",
              "         [ 2.1848,  0.0637, -0.1240]]))"
            ]
          },
          "metadata": {},
          "execution_count": 23
        }
      ]
    },
    {
      "cell_type": "markdown",
      "source": [
        "上方部分是元素對元素(element-wise)的相乘，而非一般的矩陣相乘"
      ],
      "metadata": {
        "id": "Y8Hn4gPztSmB"
      }
    },
    {
      "cell_type": "code",
      "source": [
        "#張量矩陣相乘\n",
        "c = torch.randn((2 , 3))\n",
        "d = torch.randn((3 , 4))\n",
        "\n",
        "t_matmul1 = c.mm(d)\n",
        "t_matmul2 = torch.mm(c , d)\n",
        "t_matmul3 = torch.matmul(c , d)\n",
        "t_matmul4 = c @ d\n",
        "\n",
        "print(t_matmul1.shape, t_matmul2.shape , t_matmul3.shape , t_matmul4.shape)"
      ],
      "metadata": {
        "colab": {
          "base_uri": "https://localhost:8080/"
        },
        "id": "Yq_iYPlitF_J",
        "outputId": "d669e007-2677-4f7e-90cf-a991e695e422"
      },
      "execution_count": 24,
      "outputs": [
        {
          "output_type": "stream",
          "name": "stdout",
          "text": [
            "torch.Size([2, 4]) torch.Size([2, 4]) torch.Size([2, 4]) torch.Size([2, 4])\n"
          ]
        }
      ]
    },
    {
      "cell_type": "markdown",
      "source": [
        "我們針對Shape進行操作也十分重要\n",
        "先改變維度再進行矩陣相乘(ex : 2 x 3 > 3 x 2)"
      ],
      "metadata": {
        "id": "NoYpC0_yuNMS"
      }
    },
    {
      "cell_type": "code",
      "source": [
        "#張量形狀操作\n",
        "a = torch.tensor([[[1, 2, 3],[4, 5, 6]],[[7, 8, 9],[10, 11, 12]]])\n",
        "\n",
        "print(a.shape)\n",
        "print(a)"
      ],
      "metadata": {
        "colab": {
          "base_uri": "https://localhost:8080/"
        },
        "id": "ElJQC-reuCux",
        "outputId": "9cbd135b-9bf0-4311-db29-fd8a4464a60c"
      },
      "execution_count": 26,
      "outputs": [
        {
          "output_type": "stream",
          "name": "stdout",
          "text": [
            "torch.Size([2, 2, 3])\n",
            "tensor([[[ 1,  2,  3],\n",
            "         [ 4,  5,  6]],\n",
            "\n",
            "        [[ 7,  8,  9],\n",
            "         [10, 11, 12]]])\n"
          ]
        }
      ]
    },
    {
      "cell_type": "code",
      "source": [
        "b = a.reshape(2 , 6)\n",
        "c = a.view(2 , 6)\n",
        "d = a.reshape(2 , -1)\n",
        "print(b.shape , c.shape , d.shape)\n",
        "b , c ,d"
      ],
      "metadata": {
        "colab": {
          "base_uri": "https://localhost:8080/"
        },
        "id": "1uUK6wLhvAix",
        "outputId": "1908892e-985f-44c0-a699-83c32cdcf6c0"
      },
      "execution_count": 27,
      "outputs": [
        {
          "output_type": "stream",
          "name": "stdout",
          "text": [
            "torch.Size([2, 6]) torch.Size([2, 6]) torch.Size([2, 6])\n"
          ]
        },
        {
          "output_type": "execute_result",
          "data": {
            "text/plain": [
              "(tensor([[ 1,  2,  3,  4,  5,  6],\n",
              "         [ 7,  8,  9, 10, 11, 12]]),\n",
              " tensor([[ 1,  2,  3,  4,  5,  6],\n",
              "         [ 7,  8,  9, 10, 11, 12]]),\n",
              " tensor([[ 1,  2,  3,  4,  5,  6],\n",
              "         [ 7,  8,  9, 10, 11, 12]]))"
            ]
          },
          "metadata": {},
          "execution_count": 27
        }
      ]
    },
    {
      "cell_type": "markdown",
      "source": [
        "permute 給定順序 範例的(0,2,1)代表順序將轉換成(2(原先第0維) , 3(原先第2維) , 2(原先第1維))\n",
        "\n",
        "transpose 給定的維度對調 (1,2) 表示3(第1維)與2(第2維)對調"
      ],
      "metadata": {
        "id": "PHDmNo96wOjX"
      }
    },
    {
      "cell_type": "code",
      "source": [
        "#調換Tensor維度\n",
        "e = a.permute((0, 2, 1))\n",
        "f = a.transpose(1 , 2)\n",
        "print(e.shape , f.shape)\n",
        "e , f"
      ],
      "metadata": {
        "colab": {
          "base_uri": "https://localhost:8080/"
        },
        "id": "NAgyKn5kvkxg",
        "outputId": "53aa3f8f-d59d-480b-acfa-05a43ab1b4b1"
      },
      "execution_count": 28,
      "outputs": [
        {
          "output_type": "stream",
          "name": "stdout",
          "text": [
            "torch.Size([2, 3, 2]) torch.Size([2, 3, 2])\n"
          ]
        },
        {
          "output_type": "execute_result",
          "data": {
            "text/plain": [
              "(tensor([[[ 1,  4],\n",
              "          [ 2,  5],\n",
              "          [ 3,  6]],\n",
              " \n",
              "         [[ 7, 10],\n",
              "          [ 8, 11],\n",
              "          [ 9, 12]]]),\n",
              " tensor([[[ 1,  4],\n",
              "          [ 2,  5],\n",
              "          [ 3,  6]],\n",
              " \n",
              "         [[ 7, 10],\n",
              "          [ 8, 11],\n",
              "          [ 9, 12]]]))"
            ]
          },
          "metadata": {},
          "execution_count": 28
        }
      ]
    },
    {
      "cell_type": "markdown",
      "source": [
        "unsqueeze 再給定位置增加維度\n",
        "\n",
        "squeeze 給定維度元素數量為1 則壓縮給定位置(若無給定則所有維度為1的位置都壓縮)"
      ],
      "metadata": {
        "id": "1njsDUpBxSLe"
      }
    },
    {
      "cell_type": "code",
      "source": [
        "#增加維度\n",
        "g = torch.unsqueeze(a , dim = 1)\n",
        "h = torch.squeeze(g)\n",
        "print(g.shape , h.shape)\n",
        "g , h"
      ],
      "metadata": {
        "colab": {
          "base_uri": "https://localhost:8080/"
        },
        "id": "GvZkLs6PwG2n",
        "outputId": "7fe6cf0f-24f3-4d3e-b58b-ada9b47ea32e"
      },
      "execution_count": 31,
      "outputs": [
        {
          "output_type": "stream",
          "name": "stdout",
          "text": [
            "torch.Size([2, 1, 2, 3]) torch.Size([2, 2, 3])\n"
          ]
        },
        {
          "output_type": "execute_result",
          "data": {
            "text/plain": [
              "(tensor([[[[ 1,  2,  3],\n",
              "           [ 4,  5,  6]]],\n",
              " \n",
              " \n",
              "         [[[ 7,  8,  9],\n",
              "           [10, 11, 12]]]]),\n",
              " tensor([[[ 1,  2,  3],\n",
              "          [ 4,  5,  6]],\n",
              " \n",
              "         [[ 7,  8,  9],\n",
              "          [10, 11, 12]]]))"
            ]
          },
          "metadata": {},
          "execution_count": 31
        }
      ]
    },
    {
      "cell_type": "code",
      "source": [],
      "metadata": {
        "id": "wxV4qY1KxRg_"
      },
      "execution_count": null,
      "outputs": []
    }
  ]
}